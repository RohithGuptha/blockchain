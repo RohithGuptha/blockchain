{
  "metadata": {
    "kernelspec": {
      "language": "python",
      "display_name": "Python 3",
      "name": "python3"
    },
    "language_info": {
      "name": "python",
      "version": "3.7.6",
      "mimetype": "text/x-python",
      "codemirror_mode": {
        "name": "ipython",
        "version": 3
      },
      "pygments_lexer": "ipython3",
      "nbconvert_exporter": "python",
      "file_extension": ".py"
    },
    "colab": {
      "provenance": [],
      "include_colab_link": true
    }
  },
  "nbformat_minor": 0,
  "nbformat": 4,
  "cells": [
    {
      "cell_type": "markdown",
      "metadata": {
        "id": "view-in-github",
        "colab_type": "text"
      },
      "source": [
        "<a href=\"https://colab.research.google.com/github/RohithGuptha/blockchain/blob/master/movie_user_based_recommendation_system.ipynb\" target=\"_parent\"><img src=\"https://colab.research.google.com/assets/colab-badge.svg\" alt=\"Open In Colab\"/></a>"
      ]
    },
    {
      "cell_type": "code",
      "source": [
        "import numpy as np \n",
        "import pandas as pd "
      ],
      "metadata": {
        "execution": {
          "iopub.status.busy": "2022-11-21T10:03:56.507196Z",
          "iopub.execute_input": "2022-11-21T10:03:56.507582Z",
          "iopub.status.idle": "2022-11-21T10:03:56.513842Z",
          "shell.execute_reply.started": "2022-11-21T10:03:56.507544Z",
          "shell.execute_reply": "2022-11-21T10:03:56.512003Z"
        },
        "trusted": true,
        "id": "1fHO350vqsLN"
      },
      "execution_count": null,
      "outputs": []
    },
    {
      "cell_type": "code",
      "source": [
        "movie= pd.read_csv(r\"Amazon.csv\")"
      ],
      "metadata": {
        "execution": {
          "iopub.status.busy": "2022-11-21T10:03:56.538507Z",
          "iopub.execute_input": "2022-11-21T10:03:56.539049Z",
          "iopub.status.idle": "2022-11-21T10:03:56.704164Z",
          "shell.execute_reply.started": "2022-11-21T10:03:56.539004Z",
          "shell.execute_reply": "2022-11-21T10:03:56.703166Z"
        },
        "trusted": true,
        "id": "Q4DJ-udRqsLR"
      },
      "execution_count": null,
      "outputs": []
    },
    {
      "cell_type": "code",
      "source": [
        "movie_pd = pd.DataFrame(movie)"
      ],
      "metadata": {
        "execution": {
          "iopub.status.busy": "2022-11-21T10:03:56.706405Z",
          "iopub.execute_input": "2022-11-21T10:03:56.706724Z",
          "iopub.status.idle": "2022-11-21T10:03:56.711920Z",
          "shell.execute_reply.started": "2022-11-21T10:03:56.706691Z",
          "shell.execute_reply": "2022-11-21T10:03:56.710107Z"
        },
        "trusted": true,
        "id": "WtOLktiIqsLV"
      },
      "execution_count": null,
      "outputs": []
    },
    {
      "cell_type": "code",
      "source": [
        "movie.head()"
      ],
      "metadata": {
        "execution": {
          "iopub.status.busy": "2022-11-21T10:03:56.713525Z",
          "iopub.execute_input": "2022-11-21T10:03:56.713890Z",
          "iopub.status.idle": "2022-11-21T10:03:56.762019Z",
          "shell.execute_reply.started": "2022-11-21T10:03:56.713846Z",
          "shell.execute_reply": "2022-11-21T10:03:56.761010Z"
        },
        "trusted": true,
        "id": "dKFMXoadqsLY",
        "outputId": "a6ff9005-c1d3-4012-f9c4-b41ea4290082"
      },
      "execution_count": null,
      "outputs": [
        {
          "execution_count": 4,
          "output_type": "execute_result",
          "data": {
            "text/plain": "          user_id  Movie1  Movie2  Movie3  Movie4  Movie5  Movie6  Movie7  \\\n0  A3R5OBKS7OM2IR     5.0     5.0     NaN     NaN     NaN     NaN     NaN   \n1   AH3QC2PC1VTGP     NaN     NaN     2.0     NaN     NaN     NaN     NaN   \n2  A3LKP6WPMP9UKX     NaN     NaN     NaN     5.0     NaN     NaN     NaN   \n3   AVIY68KEPQ5ZD     NaN     NaN     NaN     5.0     NaN     NaN     NaN   \n4  A1CV1WROP5KTTW     NaN     NaN     NaN     NaN     5.0     NaN     NaN   \n\n   Movie8  Movie9  ...  Movie197  Movie198  Movie199  Movie200  Movie201  \\\n0     NaN     NaN  ...       NaN       NaN       NaN       NaN       NaN   \n1     NaN     NaN  ...       NaN       NaN       NaN       NaN       NaN   \n2     NaN     NaN  ...       NaN       NaN       NaN       NaN       NaN   \n3     NaN     NaN  ...       NaN       NaN       NaN       NaN       NaN   \n4     NaN     NaN  ...       NaN       NaN       NaN       NaN       NaN   \n\n   Movie202  Movie203  Movie204  Movie205  Movie206  \n0       NaN       NaN       NaN       NaN       NaN  \n1       NaN       NaN       NaN       NaN       NaN  \n2       NaN       NaN       NaN       NaN       NaN  \n3       NaN       NaN       NaN       NaN       NaN  \n4       NaN       NaN       NaN       NaN       NaN  \n\n[5 rows x 207 columns]",
            "text/html": "<div>\n<style scoped>\n    .dataframe tbody tr th:only-of-type {\n        vertical-align: middle;\n    }\n\n    .dataframe tbody tr th {\n        vertical-align: top;\n    }\n\n    .dataframe thead th {\n        text-align: right;\n    }\n</style>\n<table border=\"1\" class=\"dataframe\">\n  <thead>\n    <tr style=\"text-align: right;\">\n      <th></th>\n      <th>user_id</th>\n      <th>Movie1</th>\n      <th>Movie2</th>\n      <th>Movie3</th>\n      <th>Movie4</th>\n      <th>Movie5</th>\n      <th>Movie6</th>\n      <th>Movie7</th>\n      <th>Movie8</th>\n      <th>Movie9</th>\n      <th>...</th>\n      <th>Movie197</th>\n      <th>Movie198</th>\n      <th>Movie199</th>\n      <th>Movie200</th>\n      <th>Movie201</th>\n      <th>Movie202</th>\n      <th>Movie203</th>\n      <th>Movie204</th>\n      <th>Movie205</th>\n      <th>Movie206</th>\n    </tr>\n  </thead>\n  <tbody>\n    <tr>\n      <th>0</th>\n      <td>A3R5OBKS7OM2IR</td>\n      <td>5.0</td>\n      <td>5.0</td>\n      <td>NaN</td>\n      <td>NaN</td>\n      <td>NaN</td>\n      <td>NaN</td>\n      <td>NaN</td>\n      <td>NaN</td>\n      <td>NaN</td>\n      <td>...</td>\n      <td>NaN</td>\n      <td>NaN</td>\n      <td>NaN</td>\n      <td>NaN</td>\n      <td>NaN</td>\n      <td>NaN</td>\n      <td>NaN</td>\n      <td>NaN</td>\n      <td>NaN</td>\n      <td>NaN</td>\n    </tr>\n    <tr>\n      <th>1</th>\n      <td>AH3QC2PC1VTGP</td>\n      <td>NaN</td>\n      <td>NaN</td>\n      <td>2.0</td>\n      <td>NaN</td>\n      <td>NaN</td>\n      <td>NaN</td>\n      <td>NaN</td>\n      <td>NaN</td>\n      <td>NaN</td>\n      <td>...</td>\n      <td>NaN</td>\n      <td>NaN</td>\n      <td>NaN</td>\n      <td>NaN</td>\n      <td>NaN</td>\n      <td>NaN</td>\n      <td>NaN</td>\n      <td>NaN</td>\n      <td>NaN</td>\n      <td>NaN</td>\n    </tr>\n    <tr>\n      <th>2</th>\n      <td>A3LKP6WPMP9UKX</td>\n      <td>NaN</td>\n      <td>NaN</td>\n      <td>NaN</td>\n      <td>5.0</td>\n      <td>NaN</td>\n      <td>NaN</td>\n      <td>NaN</td>\n      <td>NaN</td>\n      <td>NaN</td>\n      <td>...</td>\n      <td>NaN</td>\n      <td>NaN</td>\n      <td>NaN</td>\n      <td>NaN</td>\n      <td>NaN</td>\n      <td>NaN</td>\n      <td>NaN</td>\n      <td>NaN</td>\n      <td>NaN</td>\n      <td>NaN</td>\n    </tr>\n    <tr>\n      <th>3</th>\n      <td>AVIY68KEPQ5ZD</td>\n      <td>NaN</td>\n      <td>NaN</td>\n      <td>NaN</td>\n      <td>5.0</td>\n      <td>NaN</td>\n      <td>NaN</td>\n      <td>NaN</td>\n      <td>NaN</td>\n      <td>NaN</td>\n      <td>...</td>\n      <td>NaN</td>\n      <td>NaN</td>\n      <td>NaN</td>\n      <td>NaN</td>\n      <td>NaN</td>\n      <td>NaN</td>\n      <td>NaN</td>\n      <td>NaN</td>\n      <td>NaN</td>\n      <td>NaN</td>\n    </tr>\n    <tr>\n      <th>4</th>\n      <td>A1CV1WROP5KTTW</td>\n      <td>NaN</td>\n      <td>NaN</td>\n      <td>NaN</td>\n      <td>NaN</td>\n      <td>5.0</td>\n      <td>NaN</td>\n      <td>NaN</td>\n      <td>NaN</td>\n      <td>NaN</td>\n      <td>...</td>\n      <td>NaN</td>\n      <td>NaN</td>\n      <td>NaN</td>\n      <td>NaN</td>\n      <td>NaN</td>\n      <td>NaN</td>\n      <td>NaN</td>\n      <td>NaN</td>\n      <td>NaN</td>\n      <td>NaN</td>\n    </tr>\n  </tbody>\n</table>\n<p>5 rows × 207 columns</p>\n</div>"
          },
          "metadata": {}
        }
      ]
    },
    {
      "cell_type": "code",
      "source": [
        "movie.shape"
      ],
      "metadata": {
        "execution": {
          "iopub.status.busy": "2022-11-21T10:03:56.763759Z",
          "iopub.execute_input": "2022-11-21T10:03:56.764209Z",
          "iopub.status.idle": "2022-11-21T10:03:56.771329Z",
          "shell.execute_reply.started": "2022-11-21T10:03:56.764161Z",
          "shell.execute_reply": "2022-11-21T10:03:56.770382Z"
        },
        "trusted": true,
        "id": "8uI-q0ihqsLb",
        "outputId": "918a3815-1b81-4194-c136-5cda350d2761"
      },
      "execution_count": null,
      "outputs": [
        {
          "execution_count": 5,
          "output_type": "execute_result",
          "data": {
            "text/plain": "(4848, 207)"
          },
          "metadata": {}
        }
      ]
    },
    {
      "cell_type": "code",
      "source": [
        "movie.size"
      ],
      "metadata": {
        "execution": {
          "iopub.status.busy": "2022-11-21T10:03:56.774225Z",
          "iopub.execute_input": "2022-11-21T10:03:56.774539Z",
          "iopub.status.idle": "2022-11-21T10:03:56.785652Z",
          "shell.execute_reply.started": "2022-11-21T10:03:56.774508Z",
          "shell.execute_reply": "2022-11-21T10:03:56.784603Z"
        },
        "trusted": true,
        "id": "MSQQQq6FqsLe",
        "outputId": "1b7b72d7-7f83-4c84-84bd-32bdff98bc1c"
      },
      "execution_count": null,
      "outputs": [
        {
          "execution_count": 6,
          "output_type": "execute_result",
          "data": {
            "text/plain": "1003536"
          },
          "metadata": {}
        }
      ]
    },
    {
      "cell_type": "code",
      "source": [
        "movie.describe()"
      ],
      "metadata": {
        "execution": {
          "iopub.status.busy": "2022-11-21T10:03:56.787620Z",
          "iopub.execute_input": "2022-11-21T10:03:56.788284Z",
          "iopub.status.idle": "2022-11-21T10:03:57.285943Z",
          "shell.execute_reply.started": "2022-11-21T10:03:56.788233Z",
          "shell.execute_reply": "2022-11-21T10:03:57.285162Z"
        },
        "trusted": true,
        "id": "RfmlddgBqsLg",
        "outputId": "3d5fb350-d3d3-43c4-ace9-24c503f34790"
      },
      "execution_count": null,
      "outputs": [
        {
          "execution_count": 7,
          "output_type": "execute_result",
          "data": {
            "text/plain": "       Movie1  Movie2  Movie3  Movie4     Movie5  Movie6  Movie7  Movie8  \\\ncount     1.0     1.0     1.0     2.0  29.000000     1.0     1.0     1.0   \nmean      5.0     5.0     2.0     5.0   4.103448     4.0     5.0     5.0   \nstd       NaN     NaN     NaN     0.0   1.496301     NaN     NaN     NaN   \nmin       5.0     5.0     2.0     5.0   1.000000     4.0     5.0     5.0   \n25%       5.0     5.0     2.0     5.0   4.000000     4.0     5.0     5.0   \n50%       5.0     5.0     2.0     5.0   5.000000     4.0     5.0     5.0   \n75%       5.0     5.0     2.0     5.0   5.000000     4.0     5.0     5.0   \nmax       5.0     5.0     2.0     5.0   5.000000     4.0     5.0     5.0   \n\n       Movie9  Movie10  ...  Movie197  Movie198  Movie199  Movie200  Movie201  \\\ncount     1.0      1.0  ...  5.000000       2.0       1.0  8.000000  3.000000   \nmean      5.0      5.0  ...  3.800000       5.0       5.0  4.625000  4.333333   \nstd       NaN      NaN  ...  1.643168       0.0       NaN  0.517549  1.154701   \nmin       5.0      5.0  ...  1.000000       5.0       5.0  4.000000  3.000000   \n25%       5.0      5.0  ...  4.000000       5.0       5.0  4.000000  4.000000   \n50%       5.0      5.0  ...  4.000000       5.0       5.0  5.000000  5.000000   \n75%       5.0      5.0  ...  5.000000       5.0       5.0  5.000000  5.000000   \nmax       5.0      5.0  ...  5.000000       5.0       5.0  5.000000  5.000000   \n\n       Movie202  Movie203  Movie204   Movie205   Movie206  \ncount  6.000000       1.0  8.000000  35.000000  13.000000  \nmean   4.333333       3.0  4.375000   4.628571   4.923077  \nstd    1.632993       NaN  1.407886   0.910259   0.277350  \nmin    1.000000       3.0  1.000000   1.000000   4.000000  \n25%    5.000000       3.0  4.750000   5.000000   5.000000  \n50%    5.000000       3.0  5.000000   5.000000   5.000000  \n75%    5.000000       3.0  5.000000   5.000000   5.000000  \nmax    5.000000       3.0  5.000000   5.000000   5.000000  \n\n[8 rows x 206 columns]",
            "text/html": "<div>\n<style scoped>\n    .dataframe tbody tr th:only-of-type {\n        vertical-align: middle;\n    }\n\n    .dataframe tbody tr th {\n        vertical-align: top;\n    }\n\n    .dataframe thead th {\n        text-align: right;\n    }\n</style>\n<table border=\"1\" class=\"dataframe\">\n  <thead>\n    <tr style=\"text-align: right;\">\n      <th></th>\n      <th>Movie1</th>\n      <th>Movie2</th>\n      <th>Movie3</th>\n      <th>Movie4</th>\n      <th>Movie5</th>\n      <th>Movie6</th>\n      <th>Movie7</th>\n      <th>Movie8</th>\n      <th>Movie9</th>\n      <th>Movie10</th>\n      <th>...</th>\n      <th>Movie197</th>\n      <th>Movie198</th>\n      <th>Movie199</th>\n      <th>Movie200</th>\n      <th>Movie201</th>\n      <th>Movie202</th>\n      <th>Movie203</th>\n      <th>Movie204</th>\n      <th>Movie205</th>\n      <th>Movie206</th>\n    </tr>\n  </thead>\n  <tbody>\n    <tr>\n      <th>count</th>\n      <td>1.0</td>\n      <td>1.0</td>\n      <td>1.0</td>\n      <td>2.0</td>\n      <td>29.000000</td>\n      <td>1.0</td>\n      <td>1.0</td>\n      <td>1.0</td>\n      <td>1.0</td>\n      <td>1.0</td>\n      <td>...</td>\n      <td>5.000000</td>\n      <td>2.0</td>\n      <td>1.0</td>\n      <td>8.000000</td>\n      <td>3.000000</td>\n      <td>6.000000</td>\n      <td>1.0</td>\n      <td>8.000000</td>\n      <td>35.000000</td>\n      <td>13.000000</td>\n    </tr>\n    <tr>\n      <th>mean</th>\n      <td>5.0</td>\n      <td>5.0</td>\n      <td>2.0</td>\n      <td>5.0</td>\n      <td>4.103448</td>\n      <td>4.0</td>\n      <td>5.0</td>\n      <td>5.0</td>\n      <td>5.0</td>\n      <td>5.0</td>\n      <td>...</td>\n      <td>3.800000</td>\n      <td>5.0</td>\n      <td>5.0</td>\n      <td>4.625000</td>\n      <td>4.333333</td>\n      <td>4.333333</td>\n      <td>3.0</td>\n      <td>4.375000</td>\n      <td>4.628571</td>\n      <td>4.923077</td>\n    </tr>\n    <tr>\n      <th>std</th>\n      <td>NaN</td>\n      <td>NaN</td>\n      <td>NaN</td>\n      <td>0.0</td>\n      <td>1.496301</td>\n      <td>NaN</td>\n      <td>NaN</td>\n      <td>NaN</td>\n      <td>NaN</td>\n      <td>NaN</td>\n      <td>...</td>\n      <td>1.643168</td>\n      <td>0.0</td>\n      <td>NaN</td>\n      <td>0.517549</td>\n      <td>1.154701</td>\n      <td>1.632993</td>\n      <td>NaN</td>\n      <td>1.407886</td>\n      <td>0.910259</td>\n      <td>0.277350</td>\n    </tr>\n    <tr>\n      <th>min</th>\n      <td>5.0</td>\n      <td>5.0</td>\n      <td>2.0</td>\n      <td>5.0</td>\n      <td>1.000000</td>\n      <td>4.0</td>\n      <td>5.0</td>\n      <td>5.0</td>\n      <td>5.0</td>\n      <td>5.0</td>\n      <td>...</td>\n      <td>1.000000</td>\n      <td>5.0</td>\n      <td>5.0</td>\n      <td>4.000000</td>\n      <td>3.000000</td>\n      <td>1.000000</td>\n      <td>3.0</td>\n      <td>1.000000</td>\n      <td>1.000000</td>\n      <td>4.000000</td>\n    </tr>\n    <tr>\n      <th>25%</th>\n      <td>5.0</td>\n      <td>5.0</td>\n      <td>2.0</td>\n      <td>5.0</td>\n      <td>4.000000</td>\n      <td>4.0</td>\n      <td>5.0</td>\n      <td>5.0</td>\n      <td>5.0</td>\n      <td>5.0</td>\n      <td>...</td>\n      <td>4.000000</td>\n      <td>5.0</td>\n      <td>5.0</td>\n      <td>4.000000</td>\n      <td>4.000000</td>\n      <td>5.000000</td>\n      <td>3.0</td>\n      <td>4.750000</td>\n      <td>5.000000</td>\n      <td>5.000000</td>\n    </tr>\n    <tr>\n      <th>50%</th>\n      <td>5.0</td>\n      <td>5.0</td>\n      <td>2.0</td>\n      <td>5.0</td>\n      <td>5.000000</td>\n      <td>4.0</td>\n      <td>5.0</td>\n      <td>5.0</td>\n      <td>5.0</td>\n      <td>5.0</td>\n      <td>...</td>\n      <td>4.000000</td>\n      <td>5.0</td>\n      <td>5.0</td>\n      <td>5.000000</td>\n      <td>5.000000</td>\n      <td>5.000000</td>\n      <td>3.0</td>\n      <td>5.000000</td>\n      <td>5.000000</td>\n      <td>5.000000</td>\n    </tr>\n    <tr>\n      <th>75%</th>\n      <td>5.0</td>\n      <td>5.0</td>\n      <td>2.0</td>\n      <td>5.0</td>\n      <td>5.000000</td>\n      <td>4.0</td>\n      <td>5.0</td>\n      <td>5.0</td>\n      <td>5.0</td>\n      <td>5.0</td>\n      <td>...</td>\n      <td>5.000000</td>\n      <td>5.0</td>\n      <td>5.0</td>\n      <td>5.000000</td>\n      <td>5.000000</td>\n      <td>5.000000</td>\n      <td>3.0</td>\n      <td>5.000000</td>\n      <td>5.000000</td>\n      <td>5.000000</td>\n    </tr>\n    <tr>\n      <th>max</th>\n      <td>5.0</td>\n      <td>5.0</td>\n      <td>2.0</td>\n      <td>5.0</td>\n      <td>5.000000</td>\n      <td>4.0</td>\n      <td>5.0</td>\n      <td>5.0</td>\n      <td>5.0</td>\n      <td>5.0</td>\n      <td>...</td>\n      <td>5.000000</td>\n      <td>5.0</td>\n      <td>5.0</td>\n      <td>5.000000</td>\n      <td>5.000000</td>\n      <td>5.000000</td>\n      <td>3.0</td>\n      <td>5.000000</td>\n      <td>5.000000</td>\n      <td>5.000000</td>\n    </tr>\n  </tbody>\n</table>\n<p>8 rows × 206 columns</p>\n</div>"
          },
          "metadata": {}
        }
      ]
    },
    {
      "cell_type": "code",
      "source": [
        "#maximum number of views \n",
        "movie.describe().T[\"count\"].sort_values(ascending = False)[0:6]"
      ],
      "metadata": {
        "execution": {
          "iopub.status.busy": "2022-11-21T10:03:57.287139Z",
          "iopub.execute_input": "2022-11-21T10:03:57.287409Z",
          "iopub.status.idle": "2022-11-21T10:03:57.812333Z",
          "shell.execute_reply.started": "2022-11-21T10:03:57.287382Z",
          "shell.execute_reply": "2022-11-21T10:03:57.811400Z"
        },
        "trusted": true,
        "id": "J9JPtnWzqsLi",
        "outputId": "d51e005c-44ce-4581-cf2f-aed52f581fb4"
      },
      "execution_count": null,
      "outputs": [
        {
          "execution_count": 8,
          "output_type": "execute_result",
          "data": {
            "text/plain": "Movie127    2313.0\nMovie140     578.0\nMovie16      320.0\nMovie103     272.0\nMovie29      243.0\nMovie91      128.0\nName: count, dtype: float64"
          },
          "metadata": {}
        }
      ]
    },
    {
      "cell_type": "code",
      "source": [
        "movie.index"
      ],
      "metadata": {
        "execution": {
          "iopub.status.busy": "2022-11-21T10:03:57.813533Z",
          "iopub.execute_input": "2022-11-21T10:03:57.813810Z",
          "iopub.status.idle": "2022-11-21T10:03:57.819947Z",
          "shell.execute_reply.started": "2022-11-21T10:03:57.813782Z",
          "shell.execute_reply": "2022-11-21T10:03:57.818917Z"
        },
        "trusted": true,
        "id": "Nab_CTLmqsLk",
        "outputId": "66ee4cdd-9d32-46fe-89a0-9a5aa4baf0b5"
      },
      "execution_count": null,
      "outputs": [
        {
          "execution_count": 9,
          "output_type": "execute_result",
          "data": {
            "text/plain": "RangeIndex(start=0, stop=4848, step=1)"
          },
          "metadata": {}
        }
      ]
    },
    {
      "cell_type": "code",
      "source": [
        "movie.columns"
      ],
      "metadata": {
        "execution": {
          "iopub.status.busy": "2022-11-21T10:03:57.821566Z",
          "iopub.execute_input": "2022-11-21T10:03:57.821897Z",
          "iopub.status.idle": "2022-11-21T10:03:57.832308Z",
          "shell.execute_reply.started": "2022-11-21T10:03:57.821867Z",
          "shell.execute_reply": "2022-11-21T10:03:57.831410Z"
        },
        "trusted": true,
        "id": "aVxRtPilqsLm",
        "outputId": "53fda791-0fdc-4a9e-fed7-a7c7ba099475"
      },
      "execution_count": null,
      "outputs": [
        {
          "execution_count": 10,
          "output_type": "execute_result",
          "data": {
            "text/plain": "Index(['user_id', 'Movie1', 'Movie2', 'Movie3', 'Movie4', 'Movie5', 'Movie6',\n       'Movie7', 'Movie8', 'Movie9',\n       ...\n       'Movie197', 'Movie198', 'Movie199', 'Movie200', 'Movie201', 'Movie202',\n       'Movie203', 'Movie204', 'Movie205', 'Movie206'],\n      dtype='object', length=207)"
          },
          "metadata": {}
        }
      ]
    },
    {
      "cell_type": "code",
      "source": [
        "movie_filtered = movie.fillna(value=0)\n",
        "movie_filtered"
      ],
      "metadata": {
        "execution": {
          "iopub.status.busy": "2022-11-21T10:03:57.833786Z",
          "iopub.execute_input": "2022-11-21T10:03:57.834150Z",
          "iopub.status.idle": "2022-11-21T10:03:57.882005Z",
          "shell.execute_reply.started": "2022-11-21T10:03:57.834116Z",
          "shell.execute_reply": "2022-11-21T10:03:57.880994Z"
        },
        "trusted": true,
        "id": "80FDaup4qsLo",
        "outputId": "cc907a4e-59fe-42e7-ebcb-ab482cea9d5e"
      },
      "execution_count": null,
      "outputs": [
        {
          "execution_count": 11,
          "output_type": "execute_result",
          "data": {
            "text/plain": "             user_id  Movie1  Movie2  Movie3  Movie4  Movie5  Movie6  Movie7  \\\n0     A3R5OBKS7OM2IR     5.0     5.0     0.0     0.0     0.0     0.0     0.0   \n1      AH3QC2PC1VTGP     0.0     0.0     2.0     0.0     0.0     0.0     0.0   \n2     A3LKP6WPMP9UKX     0.0     0.0     0.0     5.0     0.0     0.0     0.0   \n3      AVIY68KEPQ5ZD     0.0     0.0     0.0     5.0     0.0     0.0     0.0   \n4     A1CV1WROP5KTTW     0.0     0.0     0.0     0.0     5.0     0.0     0.0   \n...              ...     ...     ...     ...     ...     ...     ...     ...   \n4843  A1IMQ9WMFYKWH5     0.0     0.0     0.0     0.0     0.0     0.0     0.0   \n4844  A1KLIKPUF5E88I     0.0     0.0     0.0     0.0     0.0     0.0     0.0   \n4845   A5HG6WFZLO10D     0.0     0.0     0.0     0.0     0.0     0.0     0.0   \n4846  A3UU690TWXCG1X     0.0     0.0     0.0     0.0     0.0     0.0     0.0   \n4847   AI4J762YI6S06     0.0     0.0     0.0     0.0     0.0     0.0     0.0   \n\n      Movie8  Movie9  ...  Movie197  Movie198  Movie199  Movie200  Movie201  \\\n0        0.0     0.0  ...       0.0       0.0       0.0       0.0       0.0   \n1        0.0     0.0  ...       0.0       0.0       0.0       0.0       0.0   \n2        0.0     0.0  ...       0.0       0.0       0.0       0.0       0.0   \n3        0.0     0.0  ...       0.0       0.0       0.0       0.0       0.0   \n4        0.0     0.0  ...       0.0       0.0       0.0       0.0       0.0   \n...      ...     ...  ...       ...       ...       ...       ...       ...   \n4843     0.0     0.0  ...       0.0       0.0       0.0       0.0       0.0   \n4844     0.0     0.0  ...       0.0       0.0       0.0       0.0       0.0   \n4845     0.0     0.0  ...       0.0       0.0       0.0       0.0       0.0   \n4846     0.0     0.0  ...       0.0       0.0       0.0       0.0       0.0   \n4847     0.0     0.0  ...       0.0       0.0       0.0       0.0       0.0   \n\n      Movie202  Movie203  Movie204  Movie205  Movie206  \n0          0.0       0.0       0.0       0.0       0.0  \n1          0.0       0.0       0.0       0.0       0.0  \n2          0.0       0.0       0.0       0.0       0.0  \n3          0.0       0.0       0.0       0.0       0.0  \n4          0.0       0.0       0.0       0.0       0.0  \n...        ...       ...       ...       ...       ...  \n4843       0.0       0.0       0.0       0.0       5.0  \n4844       0.0       0.0       0.0       0.0       5.0  \n4845       0.0       0.0       0.0       0.0       5.0  \n4846       0.0       0.0       0.0       0.0       5.0  \n4847       0.0       0.0       0.0       0.0       5.0  \n\n[4848 rows x 207 columns]",
            "text/html": "<div>\n<style scoped>\n    .dataframe tbody tr th:only-of-type {\n        vertical-align: middle;\n    }\n\n    .dataframe tbody tr th {\n        vertical-align: top;\n    }\n\n    .dataframe thead th {\n        text-align: right;\n    }\n</style>\n<table border=\"1\" class=\"dataframe\">\n  <thead>\n    <tr style=\"text-align: right;\">\n      <th></th>\n      <th>user_id</th>\n      <th>Movie1</th>\n      <th>Movie2</th>\n      <th>Movie3</th>\n      <th>Movie4</th>\n      <th>Movie5</th>\n      <th>Movie6</th>\n      <th>Movie7</th>\n      <th>Movie8</th>\n      <th>Movie9</th>\n      <th>...</th>\n      <th>Movie197</th>\n      <th>Movie198</th>\n      <th>Movie199</th>\n      <th>Movie200</th>\n      <th>Movie201</th>\n      <th>Movie202</th>\n      <th>Movie203</th>\n      <th>Movie204</th>\n      <th>Movie205</th>\n      <th>Movie206</th>\n    </tr>\n  </thead>\n  <tbody>\n    <tr>\n      <th>0</th>\n      <td>A3R5OBKS7OM2IR</td>\n      <td>5.0</td>\n      <td>5.0</td>\n      <td>0.0</td>\n      <td>0.0</td>\n      <td>0.0</td>\n      <td>0.0</td>\n      <td>0.0</td>\n      <td>0.0</td>\n      <td>0.0</td>\n      <td>...</td>\n      <td>0.0</td>\n      <td>0.0</td>\n      <td>0.0</td>\n      <td>0.0</td>\n      <td>0.0</td>\n      <td>0.0</td>\n      <td>0.0</td>\n      <td>0.0</td>\n      <td>0.0</td>\n      <td>0.0</td>\n    </tr>\n    <tr>\n      <th>1</th>\n      <td>AH3QC2PC1VTGP</td>\n      <td>0.0</td>\n      <td>0.0</td>\n      <td>2.0</td>\n      <td>0.0</td>\n      <td>0.0</td>\n      <td>0.0</td>\n      <td>0.0</td>\n      <td>0.0</td>\n      <td>0.0</td>\n      <td>...</td>\n      <td>0.0</td>\n      <td>0.0</td>\n      <td>0.0</td>\n      <td>0.0</td>\n      <td>0.0</td>\n      <td>0.0</td>\n      <td>0.0</td>\n      <td>0.0</td>\n      <td>0.0</td>\n      <td>0.0</td>\n    </tr>\n    <tr>\n      <th>2</th>\n      <td>A3LKP6WPMP9UKX</td>\n      <td>0.0</td>\n      <td>0.0</td>\n      <td>0.0</td>\n      <td>5.0</td>\n      <td>0.0</td>\n      <td>0.0</td>\n      <td>0.0</td>\n      <td>0.0</td>\n      <td>0.0</td>\n      <td>...</td>\n      <td>0.0</td>\n      <td>0.0</td>\n      <td>0.0</td>\n      <td>0.0</td>\n      <td>0.0</td>\n      <td>0.0</td>\n      <td>0.0</td>\n      <td>0.0</td>\n      <td>0.0</td>\n      <td>0.0</td>\n    </tr>\n    <tr>\n      <th>3</th>\n      <td>AVIY68KEPQ5ZD</td>\n      <td>0.0</td>\n      <td>0.0</td>\n      <td>0.0</td>\n      <td>5.0</td>\n      <td>0.0</td>\n      <td>0.0</td>\n      <td>0.0</td>\n      <td>0.0</td>\n      <td>0.0</td>\n      <td>...</td>\n      <td>0.0</td>\n      <td>0.0</td>\n      <td>0.0</td>\n      <td>0.0</td>\n      <td>0.0</td>\n      <td>0.0</td>\n      <td>0.0</td>\n      <td>0.0</td>\n      <td>0.0</td>\n      <td>0.0</td>\n    </tr>\n    <tr>\n      <th>4</th>\n      <td>A1CV1WROP5KTTW</td>\n      <td>0.0</td>\n      <td>0.0</td>\n      <td>0.0</td>\n      <td>0.0</td>\n      <td>5.0</td>\n      <td>0.0</td>\n      <td>0.0</td>\n      <td>0.0</td>\n      <td>0.0</td>\n      <td>...</td>\n      <td>0.0</td>\n      <td>0.0</td>\n      <td>0.0</td>\n      <td>0.0</td>\n      <td>0.0</td>\n      <td>0.0</td>\n      <td>0.0</td>\n      <td>0.0</td>\n      <td>0.0</td>\n      <td>0.0</td>\n    </tr>\n    <tr>\n      <th>...</th>\n      <td>...</td>\n      <td>...</td>\n      <td>...</td>\n      <td>...</td>\n      <td>...</td>\n      <td>...</td>\n      <td>...</td>\n      <td>...</td>\n      <td>...</td>\n      <td>...</td>\n      <td>...</td>\n      <td>...</td>\n      <td>...</td>\n      <td>...</td>\n      <td>...</td>\n      <td>...</td>\n      <td>...</td>\n      <td>...</td>\n      <td>...</td>\n      <td>...</td>\n      <td>...</td>\n    </tr>\n    <tr>\n      <th>4843</th>\n      <td>A1IMQ9WMFYKWH5</td>\n      <td>0.0</td>\n      <td>0.0</td>\n      <td>0.0</td>\n      <td>0.0</td>\n      <td>0.0</td>\n      <td>0.0</td>\n      <td>0.0</td>\n      <td>0.0</td>\n      <td>0.0</td>\n      <td>...</td>\n      <td>0.0</td>\n      <td>0.0</td>\n      <td>0.0</td>\n      <td>0.0</td>\n      <td>0.0</td>\n      <td>0.0</td>\n      <td>0.0</td>\n      <td>0.0</td>\n      <td>0.0</td>\n      <td>5.0</td>\n    </tr>\n    <tr>\n      <th>4844</th>\n      <td>A1KLIKPUF5E88I</td>\n      <td>0.0</td>\n      <td>0.0</td>\n      <td>0.0</td>\n      <td>0.0</td>\n      <td>0.0</td>\n      <td>0.0</td>\n      <td>0.0</td>\n      <td>0.0</td>\n      <td>0.0</td>\n      <td>...</td>\n      <td>0.0</td>\n      <td>0.0</td>\n      <td>0.0</td>\n      <td>0.0</td>\n      <td>0.0</td>\n      <td>0.0</td>\n      <td>0.0</td>\n      <td>0.0</td>\n      <td>0.0</td>\n      <td>5.0</td>\n    </tr>\n    <tr>\n      <th>4845</th>\n      <td>A5HG6WFZLO10D</td>\n      <td>0.0</td>\n      <td>0.0</td>\n      <td>0.0</td>\n      <td>0.0</td>\n      <td>0.0</td>\n      <td>0.0</td>\n      <td>0.0</td>\n      <td>0.0</td>\n      <td>0.0</td>\n      <td>...</td>\n      <td>0.0</td>\n      <td>0.0</td>\n      <td>0.0</td>\n      <td>0.0</td>\n      <td>0.0</td>\n      <td>0.0</td>\n      <td>0.0</td>\n      <td>0.0</td>\n      <td>0.0</td>\n      <td>5.0</td>\n    </tr>\n    <tr>\n      <th>4846</th>\n      <td>A3UU690TWXCG1X</td>\n      <td>0.0</td>\n      <td>0.0</td>\n      <td>0.0</td>\n      <td>0.0</td>\n      <td>0.0</td>\n      <td>0.0</td>\n      <td>0.0</td>\n      <td>0.0</td>\n      <td>0.0</td>\n      <td>...</td>\n      <td>0.0</td>\n      <td>0.0</td>\n      <td>0.0</td>\n      <td>0.0</td>\n      <td>0.0</td>\n      <td>0.0</td>\n      <td>0.0</td>\n      <td>0.0</td>\n      <td>0.0</td>\n      <td>5.0</td>\n    </tr>\n    <tr>\n      <th>4847</th>\n      <td>AI4J762YI6S06</td>\n      <td>0.0</td>\n      <td>0.0</td>\n      <td>0.0</td>\n      <td>0.0</td>\n      <td>0.0</td>\n      <td>0.0</td>\n      <td>0.0</td>\n      <td>0.0</td>\n      <td>0.0</td>\n      <td>...</td>\n      <td>0.0</td>\n      <td>0.0</td>\n      <td>0.0</td>\n      <td>0.0</td>\n      <td>0.0</td>\n      <td>0.0</td>\n      <td>0.0</td>\n      <td>0.0</td>\n      <td>0.0</td>\n      <td>5.0</td>\n    </tr>\n  </tbody>\n</table>\n<p>4848 rows × 207 columns</p>\n</div>"
          },
          "metadata": {}
        }
      ]
    },
    {
      "cell_type": "code",
      "source": [
        "\n",
        "movie_filtered1 = movie_filtered.drop(columns='user_id')\n",
        "movie_filtered1.head()"
      ],
      "metadata": {
        "execution": {
          "iopub.status.busy": "2022-11-21T10:03:57.883398Z",
          "iopub.execute_input": "2022-11-21T10:03:57.883705Z",
          "iopub.status.idle": "2022-11-21T10:03:57.920425Z",
          "shell.execute_reply.started": "2022-11-21T10:03:57.883675Z",
          "shell.execute_reply": "2022-11-21T10:03:57.919340Z"
        },
        "trusted": true,
        "id": "ny4i07l-qsLs",
        "outputId": "b44c0685-2496-447e-f727-bee73a1bad68"
      },
      "execution_count": null,
      "outputs": [
        {
          "execution_count": 12,
          "output_type": "execute_result",
          "data": {
            "text/plain": "   Movie1  Movie2  Movie3  Movie4  Movie5  Movie6  Movie7  Movie8  Movie9  \\\n0     5.0     5.0     0.0     0.0     0.0     0.0     0.0     0.0     0.0   \n1     0.0     0.0     2.0     0.0     0.0     0.0     0.0     0.0     0.0   \n2     0.0     0.0     0.0     5.0     0.0     0.0     0.0     0.0     0.0   \n3     0.0     0.0     0.0     5.0     0.0     0.0     0.0     0.0     0.0   \n4     0.0     0.0     0.0     0.0     5.0     0.0     0.0     0.0     0.0   \n\n   Movie10  ...  Movie197  Movie198  Movie199  Movie200  Movie201  Movie202  \\\n0      0.0  ...       0.0       0.0       0.0       0.0       0.0       0.0   \n1      0.0  ...       0.0       0.0       0.0       0.0       0.0       0.0   \n2      0.0  ...       0.0       0.0       0.0       0.0       0.0       0.0   \n3      0.0  ...       0.0       0.0       0.0       0.0       0.0       0.0   \n4      0.0  ...       0.0       0.0       0.0       0.0       0.0       0.0   \n\n   Movie203  Movie204  Movie205  Movie206  \n0       0.0       0.0       0.0       0.0  \n1       0.0       0.0       0.0       0.0  \n2       0.0       0.0       0.0       0.0  \n3       0.0       0.0       0.0       0.0  \n4       0.0       0.0       0.0       0.0  \n\n[5 rows x 206 columns]",
            "text/html": "<div>\n<style scoped>\n    .dataframe tbody tr th:only-of-type {\n        vertical-align: middle;\n    }\n\n    .dataframe tbody tr th {\n        vertical-align: top;\n    }\n\n    .dataframe thead th {\n        text-align: right;\n    }\n</style>\n<table border=\"1\" class=\"dataframe\">\n  <thead>\n    <tr style=\"text-align: right;\">\n      <th></th>\n      <th>Movie1</th>\n      <th>Movie2</th>\n      <th>Movie3</th>\n      <th>Movie4</th>\n      <th>Movie5</th>\n      <th>Movie6</th>\n      <th>Movie7</th>\n      <th>Movie8</th>\n      <th>Movie9</th>\n      <th>Movie10</th>\n      <th>...</th>\n      <th>Movie197</th>\n      <th>Movie198</th>\n      <th>Movie199</th>\n      <th>Movie200</th>\n      <th>Movie201</th>\n      <th>Movie202</th>\n      <th>Movie203</th>\n      <th>Movie204</th>\n      <th>Movie205</th>\n      <th>Movie206</th>\n    </tr>\n  </thead>\n  <tbody>\n    <tr>\n      <th>0</th>\n      <td>5.0</td>\n      <td>5.0</td>\n      <td>0.0</td>\n      <td>0.0</td>\n      <td>0.0</td>\n      <td>0.0</td>\n      <td>0.0</td>\n      <td>0.0</td>\n      <td>0.0</td>\n      <td>0.0</td>\n      <td>...</td>\n      <td>0.0</td>\n      <td>0.0</td>\n      <td>0.0</td>\n      <td>0.0</td>\n      <td>0.0</td>\n      <td>0.0</td>\n      <td>0.0</td>\n      <td>0.0</td>\n      <td>0.0</td>\n      <td>0.0</td>\n    </tr>\n    <tr>\n      <th>1</th>\n      <td>0.0</td>\n      <td>0.0</td>\n      <td>2.0</td>\n      <td>0.0</td>\n      <td>0.0</td>\n      <td>0.0</td>\n      <td>0.0</td>\n      <td>0.0</td>\n      <td>0.0</td>\n      <td>0.0</td>\n      <td>...</td>\n      <td>0.0</td>\n      <td>0.0</td>\n      <td>0.0</td>\n      <td>0.0</td>\n      <td>0.0</td>\n      <td>0.0</td>\n      <td>0.0</td>\n      <td>0.0</td>\n      <td>0.0</td>\n      <td>0.0</td>\n    </tr>\n    <tr>\n      <th>2</th>\n      <td>0.0</td>\n      <td>0.0</td>\n      <td>0.0</td>\n      <td>5.0</td>\n      <td>0.0</td>\n      <td>0.0</td>\n      <td>0.0</td>\n      <td>0.0</td>\n      <td>0.0</td>\n      <td>0.0</td>\n      <td>...</td>\n      <td>0.0</td>\n      <td>0.0</td>\n      <td>0.0</td>\n      <td>0.0</td>\n      <td>0.0</td>\n      <td>0.0</td>\n      <td>0.0</td>\n      <td>0.0</td>\n      <td>0.0</td>\n      <td>0.0</td>\n    </tr>\n    <tr>\n      <th>3</th>\n      <td>0.0</td>\n      <td>0.0</td>\n      <td>0.0</td>\n      <td>5.0</td>\n      <td>0.0</td>\n      <td>0.0</td>\n      <td>0.0</td>\n      <td>0.0</td>\n      <td>0.0</td>\n      <td>0.0</td>\n      <td>...</td>\n      <td>0.0</td>\n      <td>0.0</td>\n      <td>0.0</td>\n      <td>0.0</td>\n      <td>0.0</td>\n      <td>0.0</td>\n      <td>0.0</td>\n      <td>0.0</td>\n      <td>0.0</td>\n      <td>0.0</td>\n    </tr>\n    <tr>\n      <th>4</th>\n      <td>0.0</td>\n      <td>0.0</td>\n      <td>0.0</td>\n      <td>0.0</td>\n      <td>5.0</td>\n      <td>0.0</td>\n      <td>0.0</td>\n      <td>0.0</td>\n      <td>0.0</td>\n      <td>0.0</td>\n      <td>...</td>\n      <td>0.0</td>\n      <td>0.0</td>\n      <td>0.0</td>\n      <td>0.0</td>\n      <td>0.0</td>\n      <td>0.0</td>\n      <td>0.0</td>\n      <td>0.0</td>\n      <td>0.0</td>\n      <td>0.0</td>\n    </tr>\n  </tbody>\n</table>\n<p>5 rows × 206 columns</p>\n</div>"
          },
          "metadata": {}
        }
      ]
    },
    {
      "cell_type": "code",
      "source": [
        "movie_filtered1.describe()"
      ],
      "metadata": {
        "execution": {
          "iopub.status.busy": "2022-11-21T10:03:57.925408Z",
          "iopub.execute_input": "2022-11-21T10:03:57.925709Z",
          "iopub.status.idle": "2022-11-21T10:03:58.405820Z",
          "shell.execute_reply.started": "2022-11-21T10:03:57.925680Z",
          "shell.execute_reply": "2022-11-21T10:03:58.404744Z"
        },
        "trusted": true,
        "id": "FlstelabqsLu",
        "outputId": "98aaeea0-2faf-47f5-8071-e98b4a630ce5"
      },
      "execution_count": null,
      "outputs": [
        {
          "execution_count": 13,
          "output_type": "execute_result",
          "data": {
            "text/plain": "            Movie1       Movie2       Movie3       Movie4       Movie5  \\\ncount  4848.000000  4848.000000  4848.000000  4848.000000  4848.000000   \nmean      0.001031     0.001031     0.000413     0.002063     0.024546   \nstd       0.071811     0.071811     0.028724     0.101545     0.336268   \nmin       0.000000     0.000000     0.000000     0.000000     0.000000   \n25%       0.000000     0.000000     0.000000     0.000000     0.000000   \n50%       0.000000     0.000000     0.000000     0.000000     0.000000   \n75%       0.000000     0.000000     0.000000     0.000000     0.000000   \nmax       5.000000     5.000000     2.000000     5.000000     5.000000   \n\n            Movie6       Movie7       Movie8       Movie9      Movie10  ...  \\\ncount  4848.000000  4848.000000  4848.000000  4848.000000  4848.000000  ...   \nmean      0.000825     0.001031     0.001031     0.001031     0.001031  ...   \nstd       0.057448     0.071811     0.071811     0.071811     0.071811  ...   \nmin       0.000000     0.000000     0.000000     0.000000     0.000000  ...   \n25%       0.000000     0.000000     0.000000     0.000000     0.000000  ...   \n50%       0.000000     0.000000     0.000000     0.000000     0.000000  ...   \n75%       0.000000     0.000000     0.000000     0.000000     0.000000  ...   \nmax       4.000000     5.000000     5.000000     5.000000     5.000000  ...   \n\n          Movie197     Movie198     Movie199     Movie200     Movie201  \\\ncount  4848.000000  4848.000000  4848.000000  4848.000000  4848.000000   \nmean      0.003919     0.002063     0.001031     0.007632     0.002682   \nstd       0.130800     0.101545     0.071811     0.188769     0.110296   \nmin       0.000000     0.000000     0.000000     0.000000     0.000000   \n25%       0.000000     0.000000     0.000000     0.000000     0.000000   \n50%       0.000000     0.000000     0.000000     0.000000     0.000000   \n75%       0.000000     0.000000     0.000000     0.000000     0.000000   \nmax       5.000000     5.000000     5.000000     5.000000     5.000000   \n\n          Movie202     Movie203     Movie204     Movie205     Movie206  \ncount  4848.000000  4848.000000  4848.000000  4848.000000  4848.000000  \nmean      0.005363     0.000619     0.007219     0.033416     0.013201  \nstd       0.161142     0.043086     0.185478     0.399243     0.254991  \nmin       0.000000     0.000000     0.000000     0.000000     0.000000  \n25%       0.000000     0.000000     0.000000     0.000000     0.000000  \n50%       0.000000     0.000000     0.000000     0.000000     0.000000  \n75%       0.000000     0.000000     0.000000     0.000000     0.000000  \nmax       5.000000     3.000000     5.000000     5.000000     5.000000  \n\n[8 rows x 206 columns]",
            "text/html": "<div>\n<style scoped>\n    .dataframe tbody tr th:only-of-type {\n        vertical-align: middle;\n    }\n\n    .dataframe tbody tr th {\n        vertical-align: top;\n    }\n\n    .dataframe thead th {\n        text-align: right;\n    }\n</style>\n<table border=\"1\" class=\"dataframe\">\n  <thead>\n    <tr style=\"text-align: right;\">\n      <th></th>\n      <th>Movie1</th>\n      <th>Movie2</th>\n      <th>Movie3</th>\n      <th>Movie4</th>\n      <th>Movie5</th>\n      <th>Movie6</th>\n      <th>Movie7</th>\n      <th>Movie8</th>\n      <th>Movie9</th>\n      <th>Movie10</th>\n      <th>...</th>\n      <th>Movie197</th>\n      <th>Movie198</th>\n      <th>Movie199</th>\n      <th>Movie200</th>\n      <th>Movie201</th>\n      <th>Movie202</th>\n      <th>Movie203</th>\n      <th>Movie204</th>\n      <th>Movie205</th>\n      <th>Movie206</th>\n    </tr>\n  </thead>\n  <tbody>\n    <tr>\n      <th>count</th>\n      <td>4848.000000</td>\n      <td>4848.000000</td>\n      <td>4848.000000</td>\n      <td>4848.000000</td>\n      <td>4848.000000</td>\n      <td>4848.000000</td>\n      <td>4848.000000</td>\n      <td>4848.000000</td>\n      <td>4848.000000</td>\n      <td>4848.000000</td>\n      <td>...</td>\n      <td>4848.000000</td>\n      <td>4848.000000</td>\n      <td>4848.000000</td>\n      <td>4848.000000</td>\n      <td>4848.000000</td>\n      <td>4848.000000</td>\n      <td>4848.000000</td>\n      <td>4848.000000</td>\n      <td>4848.000000</td>\n      <td>4848.000000</td>\n    </tr>\n    <tr>\n      <th>mean</th>\n      <td>0.001031</td>\n      <td>0.001031</td>\n      <td>0.000413</td>\n      <td>0.002063</td>\n      <td>0.024546</td>\n      <td>0.000825</td>\n      <td>0.001031</td>\n      <td>0.001031</td>\n      <td>0.001031</td>\n      <td>0.001031</td>\n      <td>...</td>\n      <td>0.003919</td>\n      <td>0.002063</td>\n      <td>0.001031</td>\n      <td>0.007632</td>\n      <td>0.002682</td>\n      <td>0.005363</td>\n      <td>0.000619</td>\n      <td>0.007219</td>\n      <td>0.033416</td>\n      <td>0.013201</td>\n    </tr>\n    <tr>\n      <th>std</th>\n      <td>0.071811</td>\n      <td>0.071811</td>\n      <td>0.028724</td>\n      <td>0.101545</td>\n      <td>0.336268</td>\n      <td>0.057448</td>\n      <td>0.071811</td>\n      <td>0.071811</td>\n      <td>0.071811</td>\n      <td>0.071811</td>\n      <td>...</td>\n      <td>0.130800</td>\n      <td>0.101545</td>\n      <td>0.071811</td>\n      <td>0.188769</td>\n      <td>0.110296</td>\n      <td>0.161142</td>\n      <td>0.043086</td>\n      <td>0.185478</td>\n      <td>0.399243</td>\n      <td>0.254991</td>\n    </tr>\n    <tr>\n      <th>min</th>\n      <td>0.000000</td>\n      <td>0.000000</td>\n      <td>0.000000</td>\n      <td>0.000000</td>\n      <td>0.000000</td>\n      <td>0.000000</td>\n      <td>0.000000</td>\n      <td>0.000000</td>\n      <td>0.000000</td>\n      <td>0.000000</td>\n      <td>...</td>\n      <td>0.000000</td>\n      <td>0.000000</td>\n      <td>0.000000</td>\n      <td>0.000000</td>\n      <td>0.000000</td>\n      <td>0.000000</td>\n      <td>0.000000</td>\n      <td>0.000000</td>\n      <td>0.000000</td>\n      <td>0.000000</td>\n    </tr>\n    <tr>\n      <th>25%</th>\n      <td>0.000000</td>\n      <td>0.000000</td>\n      <td>0.000000</td>\n      <td>0.000000</td>\n      <td>0.000000</td>\n      <td>0.000000</td>\n      <td>0.000000</td>\n      <td>0.000000</td>\n      <td>0.000000</td>\n      <td>0.000000</td>\n      <td>...</td>\n      <td>0.000000</td>\n      <td>0.000000</td>\n      <td>0.000000</td>\n      <td>0.000000</td>\n      <td>0.000000</td>\n      <td>0.000000</td>\n      <td>0.000000</td>\n      <td>0.000000</td>\n      <td>0.000000</td>\n      <td>0.000000</td>\n    </tr>\n    <tr>\n      <th>50%</th>\n      <td>0.000000</td>\n      <td>0.000000</td>\n      <td>0.000000</td>\n      <td>0.000000</td>\n      <td>0.000000</td>\n      <td>0.000000</td>\n      <td>0.000000</td>\n      <td>0.000000</td>\n      <td>0.000000</td>\n      <td>0.000000</td>\n      <td>...</td>\n      <td>0.000000</td>\n      <td>0.000000</td>\n      <td>0.000000</td>\n      <td>0.000000</td>\n      <td>0.000000</td>\n      <td>0.000000</td>\n      <td>0.000000</td>\n      <td>0.000000</td>\n      <td>0.000000</td>\n      <td>0.000000</td>\n    </tr>\n    <tr>\n      <th>75%</th>\n      <td>0.000000</td>\n      <td>0.000000</td>\n      <td>0.000000</td>\n      <td>0.000000</td>\n      <td>0.000000</td>\n      <td>0.000000</td>\n      <td>0.000000</td>\n      <td>0.000000</td>\n      <td>0.000000</td>\n      <td>0.000000</td>\n      <td>...</td>\n      <td>0.000000</td>\n      <td>0.000000</td>\n      <td>0.000000</td>\n      <td>0.000000</td>\n      <td>0.000000</td>\n      <td>0.000000</td>\n      <td>0.000000</td>\n      <td>0.000000</td>\n      <td>0.000000</td>\n      <td>0.000000</td>\n    </tr>\n    <tr>\n      <th>max</th>\n      <td>5.000000</td>\n      <td>5.000000</td>\n      <td>2.000000</td>\n      <td>5.000000</td>\n      <td>5.000000</td>\n      <td>4.000000</td>\n      <td>5.000000</td>\n      <td>5.000000</td>\n      <td>5.000000</td>\n      <td>5.000000</td>\n      <td>...</td>\n      <td>5.000000</td>\n      <td>5.000000</td>\n      <td>5.000000</td>\n      <td>5.000000</td>\n      <td>5.000000</td>\n      <td>5.000000</td>\n      <td>3.000000</td>\n      <td>5.000000</td>\n      <td>5.000000</td>\n      <td>5.000000</td>\n    </tr>\n  </tbody>\n</table>\n<p>8 rows × 206 columns</p>\n</div>"
          },
          "metadata": {}
        }
      ]
    },
    {
      "cell_type": "code",
      "source": [
        "movie_max_views = movie_filtered1.sum()\n",
        "movie_max_views"
      ],
      "metadata": {
        "execution": {
          "iopub.status.busy": "2022-11-21T10:03:58.409044Z",
          "iopub.execute_input": "2022-11-21T10:03:58.409642Z",
          "iopub.status.idle": "2022-11-21T10:03:58.426026Z",
          "shell.execute_reply.started": "2022-11-21T10:03:58.409606Z",
          "shell.execute_reply": "2022-11-21T10:03:58.424572Z"
        },
        "trusted": true,
        "id": "7LpM4AhlqsLw",
        "outputId": "8d470935-859f-4db1-e14b-42c7ba0ba3c9"
      },
      "execution_count": null,
      "outputs": [
        {
          "execution_count": 14,
          "output_type": "execute_result",
          "data": {
            "text/plain": "Movie1        5.0\nMovie2        5.0\nMovie3        2.0\nMovie4       10.0\nMovie5      119.0\n            ...  \nMovie202     26.0\nMovie203      3.0\nMovie204     35.0\nMovie205    162.0\nMovie206     64.0\nLength: 206, dtype: float64"
          },
          "metadata": {}
        }
      ]
    },
    {
      "cell_type": "code",
      "source": [
        "#finding maximum sum of ratings \n",
        "max(movie_max_views)"
      ],
      "metadata": {
        "execution": {
          "iopub.status.busy": "2022-11-21T10:03:58.427442Z",
          "iopub.execute_input": "2022-11-21T10:03:58.427771Z",
          "iopub.status.idle": "2022-11-21T10:03:58.433350Z",
          "shell.execute_reply.started": "2022-11-21T10:03:58.427737Z",
          "shell.execute_reply": "2022-11-21T10:03:58.432563Z"
        },
        "trusted": true,
        "id": "pIiXsARIqsLx",
        "outputId": "16c65636-92cc-4f9c-8671-aa83a7ea42d4"
      },
      "execution_count": null,
      "outputs": [
        {
          "execution_count": 15,
          "output_type": "execute_result",
          "data": {
            "text/plain": "9511.0"
          },
          "metadata": {}
        }
      ]
    },
    {
      "cell_type": "code",
      "source": [
        "\n",
        "movie_max_views.head()\n",
        "movie_max_views.tail()"
      ],
      "metadata": {
        "execution": {
          "iopub.status.busy": "2022-11-21T10:03:58.434653Z",
          "iopub.execute_input": "2022-11-21T10:03:58.434954Z",
          "iopub.status.idle": "2022-11-21T10:03:58.448635Z",
          "shell.execute_reply.started": "2022-11-21T10:03:58.434922Z",
          "shell.execute_reply": "2022-11-21T10:03:58.447563Z"
        },
        "trusted": true,
        "id": "OYmeFY_KqsLz",
        "outputId": "31c7b8df-2396-4133-8ed7-3be5134e7468"
      },
      "execution_count": null,
      "outputs": [
        {
          "execution_count": 16,
          "output_type": "execute_result",
          "data": {
            "text/plain": "Movie202     26.0\nMovie203      3.0\nMovie204     35.0\nMovie205    162.0\nMovie206     64.0\ndtype: float64"
          },
          "metadata": {}
        }
      ]
    },
    {
      "cell_type": "code",
      "source": [
        "movie_max_views.index"
      ],
      "metadata": {
        "execution": {
          "iopub.status.busy": "2022-11-21T10:03:58.450048Z",
          "iopub.execute_input": "2022-11-21T10:03:58.450344Z",
          "iopub.status.idle": "2022-11-21T10:03:58.463113Z",
          "shell.execute_reply.started": "2022-11-21T10:03:58.450316Z",
          "shell.execute_reply": "2022-11-21T10:03:58.461838Z"
        },
        "trusted": true,
        "id": "pDd3iuYFqsL0",
        "outputId": "0208f057-873c-4fd7-bfff-2ec8d0dbe269"
      },
      "execution_count": null,
      "outputs": [
        {
          "execution_count": 17,
          "output_type": "execute_result",
          "data": {
            "text/plain": "Index(['Movie1', 'Movie2', 'Movie3', 'Movie4', 'Movie5', 'Movie6', 'Movie7',\n       'Movie8', 'Movie9', 'Movie10',\n       ...\n       'Movie197', 'Movie198', 'Movie199', 'Movie200', 'Movie201', 'Movie202',\n       'Movie203', 'Movie204', 'Movie205', 'Movie206'],\n      dtype='object', length=206)"
          },
          "metadata": {}
        }
      ]
    },
    {
      "cell_type": "code",
      "source": [
        "#finding which movie has maximum views/ratings\n",
        "max_views= movie_max_views.argmax()\n",
        "max_views"
      ],
      "metadata": {
        "execution": {
          "iopub.status.busy": "2022-11-21T10:03:58.464524Z",
          "iopub.execute_input": "2022-11-21T10:03:58.464861Z",
          "iopub.status.idle": "2022-11-21T10:03:58.477678Z",
          "shell.execute_reply.started": "2022-11-21T10:03:58.464828Z",
          "shell.execute_reply": "2022-11-21T10:03:58.476513Z"
        },
        "trusted": true,
        "id": "8dLIioRVqsL2",
        "outputId": "986d5dba-1ef7-4381-e9f7-f7587ea7a5a3"
      },
      "execution_count": null,
      "outputs": [
        {
          "execution_count": 18,
          "output_type": "execute_result",
          "data": {
            "text/plain": "126"
          },
          "metadata": {}
        }
      ]
    },
    {
      "cell_type": "code",
      "source": [
        "#checking whether that movie has max views/ratings or not \n",
        "movie_max_views['Movie127']"
      ],
      "metadata": {
        "execution": {
          "iopub.status.busy": "2022-11-21T10:03:58.479036Z",
          "iopub.execute_input": "2022-11-21T10:03:58.479334Z",
          "iopub.status.idle": "2022-11-21T10:03:58.492317Z",
          "shell.execute_reply.started": "2022-11-21T10:03:58.479305Z",
          "shell.execute_reply": "2022-11-21T10:03:58.491384Z"
        },
        "trusted": true,
        "id": "dQEI0zyqqsL2",
        "outputId": "fcae873a-9f64-477d-f59d-f260641c0e02"
      },
      "execution_count": null,
      "outputs": [
        {
          "execution_count": 19,
          "output_type": "execute_result",
          "data": {
            "text/plain": "9511.0"
          },
          "metadata": {}
        }
      ]
    },
    {
      "cell_type": "code",
      "source": [
        "sum(movie_max_views)"
      ],
      "metadata": {
        "execution": {
          "iopub.status.busy": "2022-11-21T10:03:58.494994Z",
          "iopub.execute_input": "2022-11-21T10:03:58.495452Z",
          "iopub.status.idle": "2022-11-21T10:03:58.505561Z",
          "shell.execute_reply.started": "2022-11-21T10:03:58.495405Z",
          "shell.execute_reply": "2022-11-21T10:03:58.504541Z"
        },
        "trusted": true,
        "id": "R0ddDRcnqsL2",
        "outputId": "aead962b-d9f1-43cf-e3dd-8721e3ac6948"
      },
      "execution_count": null,
      "outputs": [
        {
          "execution_count": 20,
          "output_type": "execute_result",
          "data": {
            "text/plain": "21928.0"
          },
          "metadata": {}
        }
      ]
    },
    {
      "cell_type": "code",
      "source": [
        "len(movie_max_views.index)"
      ],
      "metadata": {
        "execution": {
          "iopub.status.busy": "2022-11-21T10:03:58.507076Z",
          "iopub.execute_input": "2022-11-21T10:03:58.507547Z",
          "iopub.status.idle": "2022-11-21T10:03:58.518600Z",
          "shell.execute_reply.started": "2022-11-21T10:03:58.507503Z",
          "shell.execute_reply": "2022-11-21T10:03:58.517465Z"
        },
        "trusted": true,
        "id": "4nV_oqeyqsL3",
        "outputId": "0e67006d-1489-483c-cff4-d3e2c14e21a7"
      },
      "execution_count": null,
      "outputs": [
        {
          "execution_count": 21,
          "output_type": "execute_result",
          "data": {
            "text/plain": "206"
          },
          "metadata": {}
        }
      ]
    },
    {
      "cell_type": "code",
      "source": [
        "#the average rating for each movie\n",
        "Average_ratings_of_every_movie=sum(movie_max_views)/len(movie_max_views.index)\n",
        "Average_ratings_of_every_movie"
      ],
      "metadata": {
        "execution": {
          "iopub.status.busy": "2022-11-21T10:03:58.520097Z",
          "iopub.execute_input": "2022-11-21T10:03:58.520709Z",
          "iopub.status.idle": "2022-11-21T10:03:58.529988Z",
          "shell.execute_reply.started": "2022-11-21T10:03:58.520660Z",
          "shell.execute_reply": "2022-11-21T10:03:58.528833Z"
        },
        "trusted": true,
        "id": "FfuWmfeeqsL4",
        "outputId": "da826d5a-3f4b-4968-8f3a-a90cd37a8158"
      },
      "execution_count": null,
      "outputs": [
        {
          "execution_count": 22,
          "output_type": "execute_result",
          "data": {
            "text/plain": "106.44660194174757"
          },
          "metadata": {}
        }
      ]
    },
    {
      "cell_type": "code",
      "source": [
        "#the average rating for each movie (alternative way )\n",
        "movie_max_views.mean()"
      ],
      "metadata": {
        "execution": {
          "iopub.status.busy": "2022-11-21T10:03:58.531440Z",
          "iopub.execute_input": "2022-11-21T10:03:58.531758Z",
          "iopub.status.idle": "2022-11-21T10:03:58.544163Z",
          "shell.execute_reply.started": "2022-11-21T10:03:58.531727Z",
          "shell.execute_reply": "2022-11-21T10:03:58.543095Z"
        },
        "trusted": true,
        "id": "oC2T5pu0qsL4",
        "outputId": "18d46992-208b-4f90-d3e3-60d3f4f04253"
      },
      "execution_count": null,
      "outputs": [
        {
          "execution_count": 23,
          "output_type": "execute_result",
          "data": {
            "text/plain": "106.44660194174757"
          },
          "metadata": {}
        }
      ]
    },
    {
      "cell_type": "code",
      "source": [
        "movie_df = pd.DataFrame(movie_max_views)\n",
        "movie_df.head()"
      ],
      "metadata": {
        "execution": {
          "iopub.status.busy": "2022-11-21T10:03:58.545508Z",
          "iopub.execute_input": "2022-11-21T10:03:58.545880Z",
          "iopub.status.idle": "2022-11-21T10:03:58.560581Z",
          "shell.execute_reply.started": "2022-11-21T10:03:58.545847Z",
          "shell.execute_reply": "2022-11-21T10:03:58.559719Z"
        },
        "trusted": true,
        "id": "2SsDTacnqsL5",
        "outputId": "745653dc-d225-4321-d892-1ffe7047b6c4"
      },
      "execution_count": null,
      "outputs": [
        {
          "execution_count": 24,
          "output_type": "execute_result",
          "data": {
            "text/plain": "            0\nMovie1    5.0\nMovie2    5.0\nMovie3    2.0\nMovie4   10.0\nMovie5  119.0",
            "text/html": "<div>\n<style scoped>\n    .dataframe tbody tr th:only-of-type {\n        vertical-align: middle;\n    }\n\n    .dataframe tbody tr th {\n        vertical-align: top;\n    }\n\n    .dataframe thead th {\n        text-align: right;\n    }\n</style>\n<table border=\"1\" class=\"dataframe\">\n  <thead>\n    <tr style=\"text-align: right;\">\n      <th></th>\n      <th>0</th>\n    </tr>\n  </thead>\n  <tbody>\n    <tr>\n      <th>Movie1</th>\n      <td>5.0</td>\n    </tr>\n    <tr>\n      <th>Movie2</th>\n      <td>5.0</td>\n    </tr>\n    <tr>\n      <th>Movie3</th>\n      <td>2.0</td>\n    </tr>\n    <tr>\n      <th>Movie4</th>\n      <td>10.0</td>\n    </tr>\n    <tr>\n      <th>Movie5</th>\n      <td>119.0</td>\n    </tr>\n  </tbody>\n</table>\n</div>"
          },
          "metadata": {}
        }
      ]
    },
    {
      "cell_type": "code",
      "source": [
        "movie_df.columns=['rating']"
      ],
      "metadata": {
        "execution": {
          "iopub.status.busy": "2022-11-21T10:03:58.561646Z",
          "iopub.execute_input": "2022-11-21T10:03:58.562372Z",
          "iopub.status.idle": "2022-11-21T10:03:58.568616Z",
          "shell.execute_reply.started": "2022-11-21T10:03:58.562282Z",
          "shell.execute_reply": "2022-11-21T10:03:58.567754Z"
        },
        "trusted": true,
        "id": "EveVNBPDqsL5"
      },
      "execution_count": null,
      "outputs": []
    },
    {
      "cell_type": "code",
      "source": [
        "movie_df.index"
      ],
      "metadata": {
        "execution": {
          "iopub.status.busy": "2022-11-21T10:03:58.569725Z",
          "iopub.execute_input": "2022-11-21T10:03:58.570208Z",
          "iopub.status.idle": "2022-11-21T10:03:58.584585Z",
          "shell.execute_reply.started": "2022-11-21T10:03:58.570127Z",
          "shell.execute_reply": "2022-11-21T10:03:58.583475Z"
        },
        "trusted": true,
        "id": "mfhBm30hqsL6",
        "outputId": "ec24349b-e3e3-4cff-f370-e183ed96856a"
      },
      "execution_count": null,
      "outputs": [
        {
          "execution_count": 26,
          "output_type": "execute_result",
          "data": {
            "text/plain": "Index(['Movie1', 'Movie2', 'Movie3', 'Movie4', 'Movie5', 'Movie6', 'Movie7',\n       'Movie8', 'Movie9', 'Movie10',\n       ...\n       'Movie197', 'Movie198', 'Movie199', 'Movie200', 'Movie201', 'Movie202',\n       'Movie203', 'Movie204', 'Movie205', 'Movie206'],\n      dtype='object', length=206)"
          },
          "metadata": {}
        }
      ]
    },
    {
      "cell_type": "code",
      "source": [
        "movie_df.tail()"
      ],
      "metadata": {
        "execution": {
          "iopub.status.busy": "2022-11-21T10:03:58.586384Z",
          "iopub.execute_input": "2022-11-21T10:03:58.586851Z",
          "iopub.status.idle": "2022-11-21T10:03:58.601837Z",
          "shell.execute_reply.started": "2022-11-21T10:03:58.586804Z",
          "shell.execute_reply": "2022-11-21T10:03:58.600787Z"
        },
        "trusted": true,
        "id": "wdDAzssUqsL7",
        "outputId": "5435c5d3-c2b5-4695-ac29-eae7c798912a"
      },
      "execution_count": null,
      "outputs": [
        {
          "execution_count": 27,
          "output_type": "execute_result",
          "data": {
            "text/plain": "          rating\nMovie202    26.0\nMovie203     3.0\nMovie204    35.0\nMovie205   162.0\nMovie206    64.0",
            "text/html": "<div>\n<style scoped>\n    .dataframe tbody tr th:only-of-type {\n        vertical-align: middle;\n    }\n\n    .dataframe tbody tr th {\n        vertical-align: top;\n    }\n\n    .dataframe thead th {\n        text-align: right;\n    }\n</style>\n<table border=\"1\" class=\"dataframe\">\n  <thead>\n    <tr style=\"text-align: right;\">\n      <th></th>\n      <th>rating</th>\n    </tr>\n  </thead>\n  <tbody>\n    <tr>\n      <th>Movie202</th>\n      <td>26.0</td>\n    </tr>\n    <tr>\n      <th>Movie203</th>\n      <td>3.0</td>\n    </tr>\n    <tr>\n      <th>Movie204</th>\n      <td>35.0</td>\n    </tr>\n    <tr>\n      <th>Movie205</th>\n      <td>162.0</td>\n    </tr>\n    <tr>\n      <th>Movie206</th>\n      <td>64.0</td>\n    </tr>\n  </tbody>\n</table>\n</div>"
          },
          "metadata": {}
        }
      ]
    },
    {
      "cell_type": "code",
      "source": [
        "#top 5 movie ratings \n",
        "movie_df.nlargest(5,'rating')\n"
      ],
      "metadata": {
        "execution": {
          "iopub.status.busy": "2022-11-21T10:03:58.603188Z",
          "iopub.execute_input": "2022-11-21T10:03:58.603782Z",
          "iopub.status.idle": "2022-11-21T10:03:58.621123Z",
          "shell.execute_reply.started": "2022-11-21T10:03:58.603736Z",
          "shell.execute_reply": "2022-11-21T10:03:58.620073Z"
        },
        "trusted": true,
        "id": "Xai_0YAaqsL8",
        "outputId": "76e899ad-f0b6-4e3a-e77b-5d555b94a35e"
      },
      "execution_count": null,
      "outputs": [
        {
          "execution_count": 28,
          "output_type": "execute_result",
          "data": {
            "text/plain": "          rating\nMovie127  9511.0\nMovie140  2794.0\nMovie16   1446.0\nMovie103  1241.0\nMovie29   1168.0",
            "text/html": "<div>\n<style scoped>\n    .dataframe tbody tr th:only-of-type {\n        vertical-align: middle;\n    }\n\n    .dataframe tbody tr th {\n        vertical-align: top;\n    }\n\n    .dataframe thead th {\n        text-align: right;\n    }\n</style>\n<table border=\"1\" class=\"dataframe\">\n  <thead>\n    <tr style=\"text-align: right;\">\n      <th></th>\n      <th>rating</th>\n    </tr>\n  </thead>\n  <tbody>\n    <tr>\n      <th>Movie127</th>\n      <td>9511.0</td>\n    </tr>\n    <tr>\n      <th>Movie140</th>\n      <td>2794.0</td>\n    </tr>\n    <tr>\n      <th>Movie16</th>\n      <td>1446.0</td>\n    </tr>\n    <tr>\n      <th>Movie103</th>\n      <td>1241.0</td>\n    </tr>\n    <tr>\n      <th>Movie29</th>\n      <td>1168.0</td>\n    </tr>\n  </tbody>\n</table>\n</div>"
          },
          "metadata": {}
        }
      ]
    },
    {
      "cell_type": "code",
      "source": [
        "#top 5 movies having least audience \n",
        "movie_df.nsmallest(5,'rating')"
      ],
      "metadata": {
        "execution": {
          "iopub.status.busy": "2022-11-21T10:03:58.622872Z",
          "iopub.execute_input": "2022-11-21T10:03:58.623225Z",
          "iopub.status.idle": "2022-11-21T10:03:58.640501Z",
          "shell.execute_reply.started": "2022-11-21T10:03:58.623192Z",
          "shell.execute_reply": "2022-11-21T10:03:58.639370Z"
        },
        "trusted": true,
        "id": "HNztEjRvqsL8",
        "outputId": "86f7b1c8-ea76-4483-d56f-f04328a08e7b"
      },
      "execution_count": null,
      "outputs": [
        {
          "execution_count": 29,
          "output_type": "execute_result",
          "data": {
            "text/plain": "         rating\nMovie45     1.0\nMovie58     1.0\nMovie60     1.0\nMovie67     1.0\nMovie69     1.0",
            "text/html": "<div>\n<style scoped>\n    .dataframe tbody tr th:only-of-type {\n        vertical-align: middle;\n    }\n\n    .dataframe tbody tr th {\n        vertical-align: top;\n    }\n\n    .dataframe thead th {\n        text-align: right;\n    }\n</style>\n<table border=\"1\" class=\"dataframe\">\n  <thead>\n    <tr style=\"text-align: right;\">\n      <th></th>\n      <th>rating</th>\n    </tr>\n  </thead>\n  <tbody>\n    <tr>\n      <th>Movie45</th>\n      <td>1.0</td>\n    </tr>\n    <tr>\n      <th>Movie58</th>\n      <td>1.0</td>\n    </tr>\n    <tr>\n      <th>Movie60</th>\n      <td>1.0</td>\n    </tr>\n    <tr>\n      <th>Movie67</th>\n      <td>1.0</td>\n    </tr>\n    <tr>\n      <th>Movie69</th>\n      <td>1.0</td>\n    </tr>\n  </tbody>\n</table>\n</div>"
          },
          "metadata": {}
        }
      ]
    },
    {
      "cell_type": "code",
      "source": [
        "melt_df=movie_pd.melt(id_vars= movie.columns[0],value_vars=movie.columns[1:],var_name='Movie',value_name='rating')"
      ],
      "metadata": {
        "execution": {
          "iopub.status.busy": "2022-11-21T10:03:58.642190Z",
          "iopub.execute_input": "2022-11-21T10:03:58.642694Z",
          "iopub.status.idle": "2022-11-21T10:03:58.744032Z",
          "shell.execute_reply.started": "2022-11-21T10:03:58.642654Z",
          "shell.execute_reply": "2022-11-21T10:03:58.743096Z"
        },
        "trusted": true,
        "id": "9Gabqum6qsL9"
      },
      "execution_count": null,
      "outputs": []
    },
    {
      "cell_type": "code",
      "source": [
        "melt_df"
      ],
      "metadata": {
        "execution": {
          "iopub.status.busy": "2022-11-21T10:03:58.745201Z",
          "iopub.execute_input": "2022-11-21T10:03:58.745643Z",
          "iopub.status.idle": "2022-11-21T10:03:58.762630Z",
          "shell.execute_reply.started": "2022-11-21T10:03:58.745603Z",
          "shell.execute_reply": "2022-11-21T10:03:58.761125Z"
        },
        "trusted": true,
        "id": "JU3c-nlqqsL-",
        "outputId": "bdedeaa2-e092-40cf-c6d7-c78f0b4a0c18"
      },
      "execution_count": null,
      "outputs": [
        {
          "execution_count": 31,
          "output_type": "execute_result",
          "data": {
            "text/plain": "               user_id     Movie  rating\n0       A3R5OBKS7OM2IR    Movie1     5.0\n1        AH3QC2PC1VTGP    Movie1     NaN\n2       A3LKP6WPMP9UKX    Movie1     NaN\n3        AVIY68KEPQ5ZD    Movie1     NaN\n4       A1CV1WROP5KTTW    Movie1     NaN\n...                ...       ...     ...\n998683  A1IMQ9WMFYKWH5  Movie206     5.0\n998684  A1KLIKPUF5E88I  Movie206     5.0\n998685   A5HG6WFZLO10D  Movie206     5.0\n998686  A3UU690TWXCG1X  Movie206     5.0\n998687   AI4J762YI6S06  Movie206     5.0\n\n[998688 rows x 3 columns]",
            "text/html": "<div>\n<style scoped>\n    .dataframe tbody tr th:only-of-type {\n        vertical-align: middle;\n    }\n\n    .dataframe tbody tr th {\n        vertical-align: top;\n    }\n\n    .dataframe thead th {\n        text-align: right;\n    }\n</style>\n<table border=\"1\" class=\"dataframe\">\n  <thead>\n    <tr style=\"text-align: right;\">\n      <th></th>\n      <th>user_id</th>\n      <th>Movie</th>\n      <th>rating</th>\n    </tr>\n  </thead>\n  <tbody>\n    <tr>\n      <th>0</th>\n      <td>A3R5OBKS7OM2IR</td>\n      <td>Movie1</td>\n      <td>5.0</td>\n    </tr>\n    <tr>\n      <th>1</th>\n      <td>AH3QC2PC1VTGP</td>\n      <td>Movie1</td>\n      <td>NaN</td>\n    </tr>\n    <tr>\n      <th>2</th>\n      <td>A3LKP6WPMP9UKX</td>\n      <td>Movie1</td>\n      <td>NaN</td>\n    </tr>\n    <tr>\n      <th>3</th>\n      <td>AVIY68KEPQ5ZD</td>\n      <td>Movie1</td>\n      <td>NaN</td>\n    </tr>\n    <tr>\n      <th>4</th>\n      <td>A1CV1WROP5KTTW</td>\n      <td>Movie1</td>\n      <td>NaN</td>\n    </tr>\n    <tr>\n      <th>...</th>\n      <td>...</td>\n      <td>...</td>\n      <td>...</td>\n    </tr>\n    <tr>\n      <th>998683</th>\n      <td>A1IMQ9WMFYKWH5</td>\n      <td>Movie206</td>\n      <td>5.0</td>\n    </tr>\n    <tr>\n      <th>998684</th>\n      <td>A1KLIKPUF5E88I</td>\n      <td>Movie206</td>\n      <td>5.0</td>\n    </tr>\n    <tr>\n      <th>998685</th>\n      <td>A5HG6WFZLO10D</td>\n      <td>Movie206</td>\n      <td>5.0</td>\n    </tr>\n    <tr>\n      <th>998686</th>\n      <td>A3UU690TWXCG1X</td>\n      <td>Movie206</td>\n      <td>5.0</td>\n    </tr>\n    <tr>\n      <th>998687</th>\n      <td>AI4J762YI6S06</td>\n      <td>Movie206</td>\n      <td>5.0</td>\n    </tr>\n  </tbody>\n</table>\n<p>998688 rows × 3 columns</p>\n</div>"
          },
          "metadata": {}
        }
      ]
    },
    {
      "cell_type": "code",
      "source": [
        "melt_df.shape"
      ],
      "metadata": {
        "execution": {
          "iopub.status.busy": "2022-11-21T10:03:58.764304Z",
          "iopub.execute_input": "2022-11-21T10:03:58.764638Z",
          "iopub.status.idle": "2022-11-21T10:03:58.775336Z",
          "shell.execute_reply.started": "2022-11-21T10:03:58.764604Z",
          "shell.execute_reply": "2022-11-21T10:03:58.774191Z"
        },
        "trusted": true,
        "id": "q8Vti--lqsL-",
        "outputId": "97d7049b-9362-417a-d4d5-8ed6a0625b47"
      },
      "execution_count": null,
      "outputs": [
        {
          "execution_count": 32,
          "output_type": "execute_result",
          "data": {
            "text/plain": "(998688, 3)"
          },
          "metadata": {}
        }
      ]
    },
    {
      "cell_type": "code",
      "source": [
        "melt_filtered = melt_df.fillna(0)\n",
        "melt_filtered.shape"
      ],
      "metadata": {
        "execution": {
          "iopub.status.busy": "2022-11-21T10:03:58.776715Z",
          "iopub.execute_input": "2022-11-21T10:03:58.777051Z",
          "iopub.status.idle": "2022-11-21T10:03:58.880269Z",
          "shell.execute_reply.started": "2022-11-21T10:03:58.777017Z",
          "shell.execute_reply": "2022-11-21T10:03:58.879337Z"
        },
        "trusted": true,
        "id": "RnIkP09cqsL_",
        "outputId": "8590af13-de31-45f5-da75-9a4c1e5ba310"
      },
      "execution_count": null,
      "outputs": [
        {
          "execution_count": 33,
          "output_type": "execute_result",
          "data": {
            "text/plain": "(998688, 3)"
          },
          "metadata": {}
        }
      ]
    },
    {
      "cell_type": "code",
      "source": [
        "import surprise"
      ],
      "metadata": {
        "execution": {
          "iopub.status.busy": "2022-11-21T10:03:58.881779Z",
          "iopub.execute_input": "2022-11-21T10:03:58.882117Z",
          "iopub.status.idle": "2022-11-21T10:03:59.010699Z",
          "shell.execute_reply.started": "2022-11-21T10:03:58.882083Z",
          "shell.execute_reply": "2022-11-21T10:03:59.009638Z"
        },
        "trusted": true,
        "id": "JOvahb6KqsMA"
      },
      "execution_count": null,
      "outputs": []
    },
    {
      "cell_type": "code",
      "source": [
        "from surprise import Reader\n",
        "from surprise import Dataset\n",
        "from surprise import SVD\n",
        "from surprise.model_selection import train_test_split\n"
      ],
      "metadata": {
        "execution": {
          "iopub.status.busy": "2022-11-21T10:03:59.012194Z",
          "iopub.execute_input": "2022-11-21T10:03:59.012536Z",
          "iopub.status.idle": "2022-11-21T10:03:59.017214Z",
          "shell.execute_reply.started": "2022-11-21T10:03:59.012504Z",
          "shell.execute_reply": "2022-11-21T10:03:59.016046Z"
        },
        "trusted": true,
        "id": "H4LaCwIWqsMB"
      },
      "execution_count": null,
      "outputs": []
    },
    {
      "cell_type": "code",
      "source": [
        "reader = Reader(rating_scale=(-1,10))\n",
        "\n",
        "\n",
        "data = Dataset.load_from_df(melt_df.fillna(0), reader=reader)\n"
      ],
      "metadata": {
        "execution": {
          "iopub.status.busy": "2022-11-21T10:03:59.018255Z",
          "iopub.execute_input": "2022-11-21T10:03:59.018541Z",
          "iopub.status.idle": "2022-11-21T10:04:00.373243Z",
          "shell.execute_reply.started": "2022-11-21T10:03:59.018513Z",
          "shell.execute_reply": "2022-11-21T10:04:00.372098Z"
        },
        "trusted": true,
        "id": "JV4nNwLEqsMB"
      },
      "execution_count": null,
      "outputs": []
    },
    {
      "cell_type": "code",
      "source": [
        "#Divide the data into training and test data\n",
        "trainset, testset = train_test_split(data, test_size=0.25)"
      ],
      "metadata": {
        "execution": {
          "iopub.status.busy": "2022-11-21T10:04:00.374565Z",
          "iopub.execute_input": "2022-11-21T10:04:00.374867Z",
          "iopub.status.idle": "2022-11-21T10:04:02.179311Z",
          "shell.execute_reply.started": "2022-11-21T10:04:00.374837Z",
          "shell.execute_reply": "2022-11-21T10:04:02.178019Z"
        },
        "trusted": true,
        "id": "vOu-b1AiqsMC"
      },
      "execution_count": null,
      "outputs": []
    },
    {
      "cell_type": "code",
      "source": [
        "algo = SVD()"
      ],
      "metadata": {
        "execution": {
          "iopub.status.busy": "2022-11-21T10:04:02.180837Z",
          "iopub.execute_input": "2022-11-21T10:04:02.181165Z",
          "iopub.status.idle": "2022-11-21T10:04:02.186257Z",
          "shell.execute_reply.started": "2022-11-21T10:04:02.181133Z",
          "shell.execute_reply": "2022-11-21T10:04:02.185055Z"
        },
        "trusted": true,
        "id": "HeWuMVRgqsMD"
      },
      "execution_count": null,
      "outputs": []
    },
    {
      "cell_type": "code",
      "source": [
        "#Building a model\n",
        "algo.fit(trainset)"
      ],
      "metadata": {
        "execution": {
          "iopub.status.busy": "2022-11-21T10:04:02.188058Z",
          "iopub.execute_input": "2022-11-21T10:04:02.188552Z",
          "iopub.status.idle": "2022-11-21T10:04:56.361079Z",
          "shell.execute_reply.started": "2022-11-21T10:04:02.188507Z",
          "shell.execute_reply": "2022-11-21T10:04:56.360057Z"
        },
        "trusted": true,
        "id": "EiKRdu4IqsMD",
        "outputId": "474f972a-15a1-478b-8d6f-e97bb498ab04"
      },
      "execution_count": null,
      "outputs": [
        {
          "execution_count": 39,
          "output_type": "execute_result",
          "data": {
            "text/plain": "<surprise.prediction_algorithms.matrix_factorization.SVD at 0x7f00513307d0>"
          },
          "metadata": {}
        }
      ]
    },
    {
      "cell_type": "code",
      "source": [
        "#Make predictions on the test data\n",
        "predict= algo.test(testset)"
      ],
      "metadata": {
        "execution": {
          "iopub.status.busy": "2022-11-21T10:04:56.362212Z",
          "iopub.execute_input": "2022-11-21T10:04:56.362514Z",
          "iopub.status.idle": "2022-11-21T10:04:59.571393Z",
          "shell.execute_reply.started": "2022-11-21T10:04:56.362483Z",
          "shell.execute_reply": "2022-11-21T10:04:59.570317Z"
        },
        "trusted": true,
        "id": "q3UPrztjqsME"
      },
      "execution_count": null,
      "outputs": []
    },
    {
      "cell_type": "code",
      "source": [
        "from surprise.model_selection import cross_validate"
      ],
      "metadata": {
        "execution": {
          "iopub.status.busy": "2022-11-21T10:04:59.572929Z",
          "iopub.execute_input": "2022-11-21T10:04:59.573473Z",
          "iopub.status.idle": "2022-11-21T10:04:59.578549Z",
          "shell.execute_reply.started": "2022-11-21T10:04:59.573436Z",
          "shell.execute_reply": "2022-11-21T10:04:59.577538Z"
        },
        "trusted": true,
        "id": "FPUoISDTqsME"
      },
      "execution_count": null,
      "outputs": []
    },
    {
      "cell_type": "code",
      "source": [
        "cross_validate(algo,data,measures=['RMSE','MAE'],cv=3,verbose=True)"
      ],
      "metadata": {
        "execution": {
          "iopub.status.busy": "2022-11-21T10:04:59.580206Z",
          "iopub.execute_input": "2022-11-21T10:04:59.580894Z"
        },
        "trusted": true,
        "id": "Hzt-B5y7qsMF"
      },
      "execution_count": null,
      "outputs": []
    },
    {
      "cell_type": "code",
      "source": [
        "user_id='A1CV1WROP5KTTW'\n",
        "Movie='Movie6'\n",
        "rating='5'\n",
        "algo.predict(user_id,Movie,r_ui=rating)\n",
        "print(cross_validate(algo,data,measures=['RMSE','MAE'],cv=3,verbose=True))"
      ],
      "metadata": {
        "trusted": true,
        "id": "7p7Vao5iqsMF"
      },
      "execution_count": null,
      "outputs": []
    }
  ]
}